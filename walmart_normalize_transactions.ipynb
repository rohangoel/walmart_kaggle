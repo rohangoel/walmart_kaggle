{
 "cells": [
  {
   "cell_type": "code",
   "execution_count": 1,
   "metadata": {},
   "outputs": [],
   "source": [
    "import pandas as pd\n",
    "import csv"
   ]
  },
  {
   "cell_type": "code",
   "execution_count": 2,
   "metadata": {},
   "outputs": [],
   "source": [
    "from datetime import datetime as dt"
   ]
  },
  {
   "cell_type": "code",
   "execution_count": 12,
   "metadata": {},
   "outputs": [],
   "source": [
    "file_open = open(r'C:\\Users\\Rohan\\Desktop\\Kaggle\\M5_Walmart\\sales_train_validation_10_items.csv')"
   ]
  },
  {
   "cell_type": "code",
   "execution_count": 41,
   "metadata": {},
   "outputs": [],
   "source": [
    "file_open = open(file_path + list_of_files[7])"
   ]
  },
  {
   "cell_type": "code",
   "execution_count": 23,
   "metadata": {},
   "outputs": [],
   "source": [
    "file_read = pd.read_csv(file_path + list_of_files[7])"
   ]
  },
  {
   "cell_type": "code",
   "execution_count": 25,
   "metadata": {},
   "outputs": [],
   "source": [
    "del file_read"
   ]
  },
  {
   "cell_type": "code",
   "execution_count": 8,
   "metadata": {},
   "outputs": [],
   "source": [
    "file_contents = csv.reader(file_open)"
   ]
  },
  {
   "cell_type": "code",
   "execution_count": 9,
   "metadata": {},
   "outputs": [],
   "source": [
    "file_write = open(r'C:\\Users\\Rohan\\Desktop\\Kaggle\\M5_Walmart\\sales_train_validation_normalized_test1.csv','a',newline='')"
   ]
  },
  {
   "cell_type": "code",
   "execution_count": 14,
   "metadata": {},
   "outputs": [
    {
     "name": "stdout",
     "output_type": "stream",
     "text": [
      "start time is 2020-06-23 07:19:23.329344\n",
      "['id', 'item_id', 'dept_id', 'cat_id', 'store_id', 'state_id', 'date', 'unit_sold', 'trasaction_id']\n",
      "end time is 2020-06-23 07:19:23.485035\n"
     ]
    }
   ],
   "source": [
    "file_open = open(r'C:\\Users\\Rohan\\Desktop\\Kaggle\\M5_Walmart\\sales_train_validation_10_items.csv')\n",
    "file_contents = csv.reader(file_open)\n",
    "file_write = open(r'C:\\Users\\Rohan\\Desktop\\Kaggle\\M5_Walmart\\sales_train_validation_normalized_test1.csv','a',newline='')\n",
    "print(F\"start time is {dt.now()}\")\n",
    "dim_fields = 6\n",
    "transaction_id = 1\n",
    "for i,row in enumerate(file_contents):\n",
    "    start = 6\n",
    "    if i == 0:\n",
    "        top_row = row\n",
    "        normalize = row[:dim_fields]\n",
    "        normalize.extend(['date','unit_sold','trasaction_id'])\n",
    "        row1 = normalize\n",
    "        print(row1)\n",
    "        row1_final = [row1[0]]\n",
    "        row1_final.extend(row1[-4:-1])\n",
    "        row_write = csv.writer(file_write)\n",
    "        row_write.writerow(row1_final)\n",
    "        nu_of_fields = len(top_row) - dim_fields\n",
    "    else:\n",
    "        start = dim_fields\n",
    "        for j in range(1,nu_of_fields+1):\n",
    "            normalize_data = row[:dim_fields]\n",
    "            #print(j,nu_of_fields,start)\n",
    "            date = top_row[start]\n",
    "            #print(date)\n",
    "            next_trans = row[start]\n",
    "            normalize_data.extend([date,next_trans,transaction_id])\n",
    "            #print(normalize_data)\n",
    "            transaction_id = transaction_id + 1\n",
    "            start = start + 1\n",
    "            row2 = normalize_data\n",
    "            #print(row2)\n",
    "            row2_final = [row2[0]]\n",
    "            row2_final.extend(row2[-4:-1])\n",
    "            row_write.writerow(row2_final)\n",
    "file_write.close()\n",
    "print(F\"end time is {dt.now()}\")"
   ]
  },
  {
   "cell_type": "code",
   "execution_count": null,
   "metadata": {},
   "outputs": [],
   "source": [
    "file_write.close()"
   ]
  },
  {
   "cell_type": "code",
   "execution_count": null,
   "metadata": {},
   "outputs": [],
   "source": [
    "wal_item_trans = pd.read_csv(r'C:\\Users\\Rohan\\Desktop\\Kaggle\\M5_Walmart\\sales_train_validation_10_items.csv')"
   ]
  },
  {
   "cell_type": "code",
   "execution_count": null,
   "metadata": {},
   "outputs": [],
   "source": [
    "type(wal_item_trans)"
   ]
  },
  {
   "cell_type": "code",
   "execution_count": null,
   "metadata": {},
   "outputs": [],
   "source": [
    "wal_item_trans.describe()"
   ]
  },
  {
   "cell_type": "code",
   "execution_count": null,
   "metadata": {},
   "outputs": [],
   "source": [
    "wal_item_trans.columns"
   ]
  },
  {
   "cell_type": "code",
   "execution_count": null,
   "metadata": {},
   "outputs": [],
   "source": [
    "wal_item_trans.head"
   ]
  },
  {
   "cell_type": "code",
   "execution_count": null,
   "metadata": {},
   "outputs": [],
   "source": [
    "for i,row in enumerate(file_contents):\n",
    "\tif i == 0:\n",
    "\t\ttop_row = row\n",
    "\t\tprint(top_row)\n",
    "\t\tprint(row[:6])\n",
    "\t\tnu_of_fields = len(top_row) - 6\n",
    "\t\tprint(nu_of_fields)\n",
    "        "
   ]
  },
  {
   "cell_type": "code",
   "execution_count": null,
   "metadata": {},
   "outputs": [],
   "source": [
    "print normalize"
   ]
  },
  {
   "cell_type": "code",
   "execution_count": null,
   "metadata": {},
   "outputs": [],
   "source": [
    "len(range(1,1914))"
   ]
  },
  {
   "cell_type": "code",
   "execution_count": null,
   "metadata": {},
   "outputs": [],
   "source": [
    "start = 6\n",
    "for j in range(1,11):\n",
    "    print j\n",
    "    print(top_row[start])\n",
    "    start += 1\n",
    "    print(start)\n",
    "    \n",
    "    "
   ]
  },
  {
   "cell_type": "code",
   "execution_count": null,
   "metadata": {},
   "outputs": [],
   "source": [
    "range(1,10)"
   ]
  },
  {
   "cell_type": "code",
   "execution_count": 10,
   "metadata": {},
   "outputs": [],
   "source": [
    "import os"
   ]
  },
  {
   "cell_type": "code",
   "execution_count": 34,
   "metadata": {},
   "outputs": [],
   "source": [
    "list_of_files = os.listdir('C:\\Users\\Rohan\\Desktop\\Kaggle\\M5_Walmart\\\\')"
   ]
  },
  {
   "cell_type": "code",
   "execution_count": 31,
   "metadata": {},
   "outputs": [
    {
     "data": {
      "text/plain": [
       "'f_sales_trans_sk_mapped_test.csv'"
      ]
     },
     "execution_count": 31,
     "metadata": {},
     "output_type": "execute_result"
    }
   ],
   "source": [
    "list_of_files[7]"
   ]
  },
  {
   "cell_type": "code",
   "execution_count": 45,
   "metadata": {},
   "outputs": [
    {
     "data": {
      "text/plain": [
       "'sales_train_validation_normalized.csv'"
      ]
     },
     "execution_count": 45,
     "metadata": {},
     "output_type": "execute_result"
    }
   ],
   "source": [
    "list_of_files[15]"
   ]
  },
  {
   "cell_type": "code",
   "execution_count": 21,
   "metadata": {},
   "outputs": [],
   "source": [
    "file_path = 'C:\\Users\\Rohan\\Desktop\\Kaggle\\M5_Walmart\\\\'"
   ]
  },
  {
   "cell_type": "code",
   "execution_count": 30,
   "metadata": {},
   "outputs": [
    {
     "data": {
      "text/plain": [
       "['calendar.csv',\n",
       " 'dim_item.csv',\n",
       " 'dim_item_idx_lkp.csv',\n",
       " 'dim_item_max_sk.csv',\n",
       " 'dim_store.csv',\n",
       " 'dim_store_idx_lkp.csv',\n",
       " 'dim_store_max_sk.csv',\n",
       " 'f_sales_trans_sk_mapped_test.csv',\n",
       " 'm5-forecasting-accuracy.zip',\n",
       " 'practice_sqls.sql',\n",
       " 'sales_train_validation.csv',\n",
       " 'sales_train_validation_10_items.csv',\n",
       " 'sales_train_validation_10_items2.csv',\n",
       " 'sales_train_validation_10_items_norm.csv',\n",
       " 'sales_train_validation_mod1.csv',\n",
       " 'sales_train_validation_normalized.csv',\n",
       " 'sample_submission.csv',\n",
       " 'sell_prices.csv',\n",
       " 'walmart_heirarchy.csv',\n",
       " 'walmart_star_schema.xlsx',\n",
       " '~$walmart_star_schema.xlsx']"
      ]
     },
     "execution_count": 30,
     "metadata": {},
     "output_type": "execute_result"
    }
   ],
   "source": [
    "os.listdir(file_path)"
   ]
  },
  {
   "cell_type": "code",
   "execution_count": 58,
   "metadata": {},
   "outputs": [],
   "source": [
    "read_huge_file_pd = pd.read_csv(file_path + list_of_files[15])"
   ]
  },
  {
   "cell_type": "code",
   "execution_count": 59,
   "metadata": {},
   "outputs": [
    {
     "name": "stdout",
     "output_type": "stream",
     "text": [
      "<class 'pandas.core.frame.DataFrame'>\n",
      "RangeIndex: 58327370 entries, 0 to 58327369\n",
      "Data columns (total 6 columns):\n",
      "id               object\n",
      "item_sk          int64\n",
      "store_sk         int64\n",
      "date             object\n",
      "unit_sold        int64\n",
      "trasaction_id    int64\n",
      "dtypes: int64(4), object(2)\n",
      "memory usage: 2.6+ GB\n"
     ]
    }
   ],
   "source": [
    "read_huge_file_pd.info()"
   ]
  },
  {
   "cell_type": "code",
   "execution_count": 48,
   "metadata": {},
   "outputs": [
    {
     "data": {
      "text/html": [
       "<div>\n",
       "<style scoped>\n",
       "    .dataframe tbody tr th:only-of-type {\n",
       "        vertical-align: middle;\n",
       "    }\n",
       "\n",
       "    .dataframe tbody tr th {\n",
       "        vertical-align: top;\n",
       "    }\n",
       "\n",
       "    .dataframe thead th {\n",
       "        text-align: right;\n",
       "    }\n",
       "</style>\n",
       "<table border=\"1\" class=\"dataframe\">\n",
       "  <thead>\n",
       "    <tr style=\"text-align: right;\">\n",
       "      <th></th>\n",
       "      <th>id</th>\n",
       "      <th>item_sk</th>\n",
       "      <th>store_sk</th>\n",
       "      <th>date</th>\n",
       "      <th>unit_sold</th>\n",
       "      <th>trasaction_id</th>\n",
       "    </tr>\n",
       "  </thead>\n",
       "  <tbody>\n",
       "    <tr>\n",
       "      <th>0</th>\n",
       "      <td>HOBBIES_1_001_CA_1_validation</td>\n",
       "      <td>1</td>\n",
       "      <td>1</td>\n",
       "      <td>d_1</td>\n",
       "      <td>0</td>\n",
       "      <td>1</td>\n",
       "    </tr>\n",
       "    <tr>\n",
       "      <th>1</th>\n",
       "      <td>HOBBIES_1_001_CA_1_validation</td>\n",
       "      <td>1</td>\n",
       "      <td>1</td>\n",
       "      <td>d_2</td>\n",
       "      <td>0</td>\n",
       "      <td>2</td>\n",
       "    </tr>\n",
       "    <tr>\n",
       "      <th>2</th>\n",
       "      <td>HOBBIES_1_001_CA_1_validation</td>\n",
       "      <td>1</td>\n",
       "      <td>1</td>\n",
       "      <td>d_3</td>\n",
       "      <td>0</td>\n",
       "      <td>3</td>\n",
       "    </tr>\n",
       "    <tr>\n",
       "      <th>3</th>\n",
       "      <td>HOBBIES_1_001_CA_1_validation</td>\n",
       "      <td>1</td>\n",
       "      <td>1</td>\n",
       "      <td>d_4</td>\n",
       "      <td>0</td>\n",
       "      <td>4</td>\n",
       "    </tr>\n",
       "    <tr>\n",
       "      <th>4</th>\n",
       "      <td>HOBBIES_1_001_CA_1_validation</td>\n",
       "      <td>1</td>\n",
       "      <td>1</td>\n",
       "      <td>d_5</td>\n",
       "      <td>0</td>\n",
       "      <td>5</td>\n",
       "    </tr>\n",
       "  </tbody>\n",
       "</table>\n",
       "</div>"
      ],
      "text/plain": [
       "                              id  item_sk  store_sk date  unit_sold  \\\n",
       "0  HOBBIES_1_001_CA_1_validation        1         1  d_1          0   \n",
       "1  HOBBIES_1_001_CA_1_validation        1         1  d_2          0   \n",
       "2  HOBBIES_1_001_CA_1_validation        1         1  d_3          0   \n",
       "3  HOBBIES_1_001_CA_1_validation        1         1  d_4          0   \n",
       "4  HOBBIES_1_001_CA_1_validation        1         1  d_5          0   \n",
       "\n",
       "   trasaction_id  \n",
       "0              1  \n",
       "1              2  \n",
       "2              3  \n",
       "3              4  \n",
       "4              5  "
      ]
     },
     "execution_count": 48,
     "metadata": {},
     "output_type": "execute_result"
    }
   ],
   "source": [
    "read_huge_file_pd.head(5)"
   ]
  },
  {
   "cell_type": "code",
   "execution_count": 49,
   "metadata": {},
   "outputs": [
    {
     "data": {
      "text/plain": [
       "58327370"
      ]
     },
     "execution_count": 49,
     "metadata": {},
     "output_type": "execute_result"
    }
   ],
   "source": [
    "read_huge_file_pd.trasaction_id.max()"
   ]
  },
  {
   "cell_type": "code",
   "execution_count": 50,
   "metadata": {},
   "outputs": [
    {
     "data": {
      "text/plain": [
       "763"
      ]
     },
     "execution_count": 50,
     "metadata": {},
     "output_type": "execute_result"
    }
   ],
   "source": [
    "read_huge_file_pd.unit_sold.max()"
   ]
  },
  {
   "cell_type": "code",
   "execution_count": 53,
   "metadata": {},
   "outputs": [
    {
     "data": {
      "text/plain": [
       "30490"
      ]
     },
     "execution_count": 53,
     "metadata": {},
     "output_type": "execute_result"
    }
   ],
   "source": [
    "len(read_huge_file_pd.id.unique())"
   ]
  },
  {
   "cell_type": "code",
   "execution_count": 54,
   "metadata": {},
   "outputs": [],
   "source": [
    "read_huge_file_pd.drop(columns=['id'],inplace=True)"
   ]
  },
  {
   "cell_type": "code",
   "execution_count": 55,
   "metadata": {},
   "outputs": [
    {
     "name": "stdout",
     "output_type": "stream",
     "text": [
      "<class 'pandas.core.frame.DataFrame'>\n",
      "RangeIndex: 58327370 entries, 0 to 58327369\n",
      "Data columns (total 5 columns):\n",
      "item_sk          int64\n",
      "store_sk         int64\n",
      "date             object\n",
      "unit_sold        int64\n",
      "trasaction_id    int64\n",
      "dtypes: int64(4), object(1)\n",
      "memory usage: 2.2+ GB\n"
     ]
    }
   ],
   "source": [
    "read_huge_file_pd.info()"
   ]
  },
  {
   "cell_type": "code",
   "execution_count": 60,
   "metadata": {},
   "outputs": [
    {
     "data": {
      "text/html": [
       "<div>\n",
       "<style scoped>\n",
       "    .dataframe tbody tr th:only-of-type {\n",
       "        vertical-align: middle;\n",
       "    }\n",
       "\n",
       "    .dataframe tbody tr th {\n",
       "        vertical-align: top;\n",
       "    }\n",
       "\n",
       "    .dataframe thead th {\n",
       "        text-align: right;\n",
       "    }\n",
       "</style>\n",
       "<table border=\"1\" class=\"dataframe\">\n",
       "  <thead>\n",
       "    <tr style=\"text-align: right;\">\n",
       "      <th></th>\n",
       "      <th>id</th>\n",
       "      <th>item_sk</th>\n",
       "      <th>store_sk</th>\n",
       "      <th>date</th>\n",
       "      <th>unit_sold</th>\n",
       "      <th>trasaction_id</th>\n",
       "    </tr>\n",
       "  </thead>\n",
       "  <tbody>\n",
       "    <tr>\n",
       "      <th>16093115</th>\n",
       "      <td>FOODS_3_090_CA_3_validation</td>\n",
       "      <td>2315</td>\n",
       "      <td>3</td>\n",
       "      <td>d_960</td>\n",
       "      <td>763</td>\n",
       "      <td>16093116</td>\n",
       "    </tr>\n",
       "  </tbody>\n",
       "</table>\n",
       "</div>"
      ],
      "text/plain": [
       "                                   id  item_sk  store_sk   date  unit_sold  \\\n",
       "16093115  FOODS_3_090_CA_3_validation     2315         3  d_960        763   \n",
       "\n",
       "          trasaction_id  \n",
       "16093115       16093116  "
      ]
     },
     "execution_count": 60,
     "metadata": {},
     "output_type": "execute_result"
    }
   ],
   "source": [
    "read_huge_file_pd[read_huge_file_pd.unit_sold == 763]"
   ]
  },
  {
   "cell_type": "code",
   "execution_count": 61,
   "metadata": {},
   "outputs": [
    {
     "name": "stdout",
     "output_type": "stream",
     "text": [
      "<class 'pandas.core.frame.DataFrame'>\n",
      "RangeIndex: 58327370 entries, 0 to 58327369\n",
      "Data columns (total 6 columns):\n",
      "id               object\n",
      "item_sk          int64\n",
      "store_sk         int64\n",
      "date             object\n",
      "unit_sold        int64\n",
      "trasaction_id    int64\n",
      "dtypes: int64(4), object(2)\n",
      "memory usage: 2.6+ GB\n"
     ]
    }
   ],
   "source": [
    "read_huge_file_pd.info()"
   ]
  },
  {
   "cell_type": "code",
   "execution_count": 62,
   "metadata": {},
   "outputs": [],
   "source": [
    "del read_huge_file_pd"
   ]
  },
  {
   "cell_type": "code",
   "execution_count": null,
   "metadata": {},
   "outputs": [],
   "source": []
  }
 ],
 "metadata": {
  "kernelspec": {
   "display_name": "Python 3",
   "language": "python",
   "name": "python3"
  },
  "language_info": {
   "codemirror_mode": {
    "name": "ipython",
    "version": 3
   },
   "file_extension": ".py",
   "mimetype": "text/x-python",
   "name": "python",
   "nbconvert_exporter": "python",
   "pygments_lexer": "ipython3",
   "version": "3.7.6"
  }
 },
 "nbformat": 4,
 "nbformat_minor": 2
}
