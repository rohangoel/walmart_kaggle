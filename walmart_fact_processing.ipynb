{
 "cells": [
  {
   "cell_type": "code",
   "execution_count": 1,
   "metadata": {},
   "outputs": [],
   "source": [
    "import pandas as pd\n",
    "import os\n",
    "import sys"
   ]
  },
  {
   "cell_type": "code",
   "execution_count": 2,
   "metadata": {},
   "outputs": [],
   "source": [
    "file_path = 'C:\\Users\\Rohan\\Desktop\\Kaggle\\M5_Walmart\\\\'"
   ]
  },
  {
   "cell_type": "code",
   "execution_count": 3,
   "metadata": {},
   "outputs": [],
   "source": [
    "dim_cols_dict= {\n",
    "                'item':{'key':['item_id'],\n",
    "\t\t\t\t\t\t'incols':['item_id','dept_id','cat_id'],\n",
    "\t\t\t\t\t\t'outcols':['item_id','dept_id','cat_id']\n",
    "\t\t\t\t\t\t},\n",
    "               'store':{'key':['store_id'],\n",
    "\t\t\t            'incols':['store_id','state_id'],\n",
    "\t\t\t\t\t\t'outcols': ['store_id','state_id'] \n",
    "\t\t\t\t\t\t},\n",
    "              'datedim':{'key':['date_sk']\n",
    "                        }\n",
    "              }"
   ]
  },
  {
   "cell_type": "code",
   "execution_count": 4,
   "metadata": {},
   "outputs": [],
   "source": [
    "fact_model = { 'f_sales_trans':{'dims':['item','date','store'],\n",
    "                                'Msrs' : ['qty','price'],\n",
    "                                'DegDim' :['trans_id']\n",
    "                               }\n",
    "             }"
   ]
  },
  {
   "cell_type": "code",
   "execution_count": 5,
   "metadata": {},
   "outputs": [],
   "source": [
    "read_fact_input = pd.read_csv(file_path + 'sales_train_validation.csv')"
   ]
  },
  {
   "cell_type": "code",
   "execution_count": 6,
   "metadata": {},
   "outputs": [
    {
     "name": "stdout",
     "output_type": "stream",
     "text": [
      "<class 'pandas.core.frame.DataFrame'>\n",
      "RangeIndex: 30490 entries, 0 to 30489\n",
      "Columns: 1919 entries, id to d_1913\n",
      "dtypes: int64(1913), object(6)\n",
      "memory usage: 446.4+ MB\n"
     ]
    }
   ],
   "source": [
    "read_fact_input.info()"
   ]
  },
  {
   "cell_type": "code",
   "execution_count": 13,
   "metadata": {},
   "outputs": [],
   "source": [
    "def read_dim_for_fact(dim_cols_dict,dim_type):\n",
    "  dim_name = 'dim_' + dim_type\n",
    "  dim_key_cols = dim_cols_dict[dim_type]['key']\n",
    "  dim_in_all_cols = dim_cols_dict[dim_type]['incols']\n",
    "  dim_out_cols = dim_cols_dict[dim_type]['outcols']  \n",
    "  file_path = 'C:\\Users\\Rohan\\Desktop\\Kaggle\\M5_Walmart\\\\'\n",
    "  #file_name = 'sales_train_validation.csv'\n",
    "  dim_sk = dim_type + '_sk'\n",
    "  dim_max_sk_csv = dim_name + '_max_sk.csv'\n",
    "  dim_idx_lkp_csv = dim_name + '_idx_lkp.csv'\n",
    "  dim_csv = dim_name + '.csv'\n",
    "  dim_hash = dim_type + '_hash_key'\n",
    "  dim_out_all_cols = list(dim_out_cols)\n",
    "  dim_idx_cols = list(dim_key_cols)\n",
    "  dim_out_all_cols.extend([dim_sk,dim_hash,'rec_hash'])\n",
    "  dim_idx_cols.append(dim_sk)\n",
    "  df_dim_idx_lkp = pd.read_csv(file_path + dim_idx_lkp_csv,index_col=dim_hash)\n",
    "  return(df_dim_idx_lkp)"
   ]
  },
  {
   "cell_type": "code",
   "execution_count": 9,
   "metadata": {},
   "outputs": [],
   "source": [
    "def add_sk_to_fact(df_fact,dim_cols_dict,dim_type):\n",
    "  dim_hash = dim_type + '_hash_key'\n",
    "  dim_key_cols = dim_cols_dict[dim_type]['key']\n",
    "  dim_in_all_cols = dim_cols_dict[dim_type]['incols']\n",
    "  dim_in_all_cols.append(dim_hash)\n",
    "  dim_sk = dim_type + '_sk'\n",
    "  if dim_sk not in df_fact.columns:\n",
    "    df_fact[dim_hash] = pd.util.hash_pandas_object(df_fact[dim_key_cols],index=False)\n",
    "    df_dim_idx_lkp = read_dim_for_fact(dim_cols_dict,dim_type)\n",
    "    def lookup_fun(x):\n",
    "      try:\n",
    "        return(df_dim_idx_lkp.at[x,dim_sk])\n",
    "      except:\n",
    "        return(-1)\n",
    "    df_fact.insert(1,dim_sk,df_fact[dim_hash].apply(lambda x:lookup_fun(x)))\n",
    "    #df_fact[dim_sk] = df_fact[dim_hash].apply(lambda x:lookup_fun(x))\n",
    "    df_dim_placeholder = df_fact[dim_key_cols][df_fact[dim_sk] == -1]\n",
    "    df_fact.drop(columns=dim_in_all_cols,inplace=True)\n",
    "    return(df_fact,df_dim_placeholder)\n",
    "  else:\n",
    "    return(df_fact,pd.DataFrame())"
   ]
  },
  {
   "cell_type": "code",
   "execution_count": 14,
   "metadata": {},
   "outputs": [],
   "source": [
    "read_fact_input,df_store_placeholder = add_sk_to_fact(read_fact_input,dim_cols_dict,'store')"
   ]
  },
  {
   "cell_type": "code",
   "execution_count": 15,
   "metadata": {},
   "outputs": [],
   "source": [
    "read_fact_input,df_item_placeholder = add_sk_to_fact(read_fact_input,dim_cols_dict,'item')"
   ]
  },
  {
   "cell_type": "code",
   "execution_count": 16,
   "metadata": {},
   "outputs": [
    {
     "name": "stdout",
     "output_type": "stream",
     "text": [
      "<class 'pandas.core.frame.DataFrame'>\n",
      "RangeIndex: 30490 entries, 0 to 30489\n",
      "Columns: 1916 entries, id to d_1913\n",
      "dtypes: int64(1915), object(1)\n",
      "memory usage: 445.7+ MB\n"
     ]
    }
   ],
   "source": [
    "read_fact_input.info()"
   ]
  },
  {
   "cell_type": "code",
   "execution_count": 19,
   "metadata": {},
   "outputs": [
    {
     "data": {
      "text/plain": [
       "array([   1,    2,    3, ..., 3047, 3048, 3049], dtype=int64)"
      ]
     },
     "execution_count": 19,
     "metadata": {},
     "output_type": "execute_result"
    }
   ],
   "source": [
    "read_fact_input.item_sk.unique()"
   ]
  },
  {
   "cell_type": "code",
   "execution_count": 20,
   "metadata": {},
   "outputs": [],
   "source": [
    "read_fact_input.to_csv(file_path + 'f_sales_trans_sk_mapped_test.csv',index=False)"
   ]
  },
  {
   "cell_type": "code",
   "execution_count": null,
   "metadata": {},
   "outputs": [],
   "source": []
  }
 ],
 "metadata": {
  "kernelspec": {
   "display_name": "Python 3",
   "language": "python",
   "name": "python3"
  },
  "language_info": {
   "codemirror_mode": {
    "name": "ipython",
    "version": 3
   },
   "file_extension": ".py",
   "mimetype": "text/x-python",
   "name": "python",
   "nbconvert_exporter": "python",
   "pygments_lexer": "ipython3",
   "version": "3.7.6"
  }
 },
 "nbformat": 4,
 "nbformat_minor": 2
}
