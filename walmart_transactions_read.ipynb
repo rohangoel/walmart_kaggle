{
 "cells": [
  {
   "cell_type": "code",
   "execution_count": 1,
   "metadata": {},
   "outputs": [],
   "source": [
    "import pandas as pd\n",
    "import csv"
   ]
  },
  {
   "cell_type": "code",
   "execution_count": 2,
   "metadata": {},
   "outputs": [],
   "source": [
    "from datetime import datetime as dt"
   ]
  },
  {
   "cell_type": "code",
   "execution_count": 92,
   "metadata": {},
   "outputs": [],
   "source": [
    "file_open = open('C:\\Users\\Rohan\\Desktop\\Kaggle\\M5_Walmart\\sales_train_validation_10_items.csv')"
   ]
  },
  {
   "cell_type": "code",
   "execution_count": 26,
   "metadata": {},
   "outputs": [],
   "source": [
    "file_open = open(file_path + list_of_files[7])"
   ]
  },
  {
   "cell_type": "code",
   "execution_count": 23,
   "metadata": {},
   "outputs": [],
   "source": [
    "file_read = pd.read_csv(file_path + list_of_files[7])"
   ]
  },
  {
   "cell_type": "code",
   "execution_count": 25,
   "metadata": {},
   "outputs": [],
   "source": [
    "del file_read"
   ]
  },
  {
   "cell_type": "code",
   "execution_count": 27,
   "metadata": {},
   "outputs": [],
   "source": [
    "file_contents = csv.reader(file_open)"
   ]
  },
  {
   "cell_type": "code",
   "execution_count": 28,
   "metadata": {},
   "outputs": [],
   "source": [
    "file_write = open('C:\\Users\\Rohan\\Desktop\\Kaggle\\M5_Walmart\\sales_train_validation_normalized.csv','ab')"
   ]
  },
  {
   "cell_type": "code",
   "execution_count": 29,
   "metadata": {},
   "outputs": [
    {
     "name": "stdout",
     "output_type": "stream",
     "text": [
      "start time is 2020-05-31 07:28:27.042000\n",
      "end time is 2020-05-31 07:33:07.635000\n"
     ]
    }
   ],
   "source": [
    "print(\"start time is {}\").format(dt.now())\n",
    "dim_fields = 6\n",
    "transaction_id = 1\n",
    "for i,row in enumerate(file_contents):\n",
    "    start = 6\n",
    "    if i == 0:\n",
    "        top_row = row\n",
    "        normalize = row[:dim_fields]\n",
    "        normalize.extend(['date','unit_sold','trasaction_id'])\n",
    "        row1 = normalize\n",
    "        row_write = csv.writer(file_write)\n",
    "        row_write.writerow(row1)\n",
    "        nu_of_fields = len(top_row) - dim_fields\n",
    "    else:\n",
    "        start = dim_fields\n",
    "        for j in range(1,nu_of_fields+1):\n",
    "            normalize_data = row[:dim_fields]\n",
    "            #print(j,nu_of_fields,start)\n",
    "            date = top_row[start]\n",
    "            #print(date)\n",
    "            next_trans = row[start]\n",
    "            normalize_data.extend([date,next_trans,transaction_id])\n",
    "            #print(normalize_data)\n",
    "            transaction_id = transaction_id + 1\n",
    "            start = start + 1\n",
    "            row2 = normalize_data\n",
    "            #print(row2)\n",
    "            row_write.writerow(row2)\n",
    "file_write.close()\n",
    "print(\"end time is {}\").format(dt.now())"
   ]
  },
  {
   "cell_type": "code",
   "execution_count": null,
   "metadata": {},
   "outputs": [],
   "source": [
    "file_write.close()"
   ]
  },
  {
   "cell_type": "code",
   "execution_count": null,
   "metadata": {},
   "outputs": [],
   "source": [
    "wal_item_trans = pd.read_csv('C:\\Users\\Rohan\\Desktop\\Kaggle\\M5_Walmart\\sales_train_validation_10_items.csv')"
   ]
  },
  {
   "cell_type": "code",
   "execution_count": null,
   "metadata": {},
   "outputs": [],
   "source": [
    "type(wal_item_trans)"
   ]
  },
  {
   "cell_type": "code",
   "execution_count": null,
   "metadata": {},
   "outputs": [],
   "source": [
    "wal_item_trans.describe()"
   ]
  },
  {
   "cell_type": "code",
   "execution_count": null,
   "metadata": {},
   "outputs": [],
   "source": [
    "wal_item_trans.columns"
   ]
  },
  {
   "cell_type": "code",
   "execution_count": null,
   "metadata": {},
   "outputs": [],
   "source": [
    "wal_item_trans.head"
   ]
  },
  {
   "cell_type": "code",
   "execution_count": null,
   "metadata": {},
   "outputs": [],
   "source": [
    "for i,row in enumerate(file_contents):\n",
    "\tif i == 0:\n",
    "\t\ttop_row = row\n",
    "\t\tprint(top_row)\n",
    "\t\tprint(row[:6])\n",
    "\t\tnu_of_fields = len(top_row) - 6\n",
    "\t\tprint(nu_of_fields)\n",
    "        "
   ]
  },
  {
   "cell_type": "code",
   "execution_count": null,
   "metadata": {},
   "outputs": [],
   "source": [
    "print normalize"
   ]
  },
  {
   "cell_type": "code",
   "execution_count": null,
   "metadata": {},
   "outputs": [],
   "source": [
    "len(range(1,1914))"
   ]
  },
  {
   "cell_type": "code",
   "execution_count": null,
   "metadata": {},
   "outputs": [],
   "source": [
    "start = 6\n",
    "for j in range(1,11):\n",
    "    print j\n",
    "    print(top_row[start])\n",
    "    start += 1\n",
    "    print(start)\n",
    "    \n",
    "    "
   ]
  },
  {
   "cell_type": "code",
   "execution_count": null,
   "metadata": {},
   "outputs": [],
   "source": [
    "range(1,10)"
   ]
  },
  {
   "cell_type": "code",
   "execution_count": 10,
   "metadata": {},
   "outputs": [],
   "source": [
    "import os"
   ]
  },
  {
   "cell_type": "code",
   "execution_count": 34,
   "metadata": {},
   "outputs": [],
   "source": [
    "list_of_files = os.listdir('C:\\Users\\Rohan\\Desktop\\Kaggle\\M5_Walmart\\\\')"
   ]
  },
  {
   "cell_type": "code",
   "execution_count": 31,
   "metadata": {},
   "outputs": [
    {
     "data": {
      "text/plain": [
       "'f_sales_trans_sk_mapped_test.csv'"
      ]
     },
     "execution_count": 31,
     "metadata": {},
     "output_type": "execute_result"
    }
   ],
   "source": [
    "list_of_files[7]"
   ]
  },
  {
   "cell_type": "code",
   "execution_count": 35,
   "metadata": {},
   "outputs": [
    {
     "data": {
      "text/plain": [
       "'sales_train_validation_normalized.csv'"
      ]
     },
     "execution_count": 35,
     "metadata": {},
     "output_type": "execute_result"
    }
   ],
   "source": [
    "list_of_files[15]"
   ]
  },
  {
   "cell_type": "code",
   "execution_count": 21,
   "metadata": {},
   "outputs": [],
   "source": [
    "file_path = 'C:\\Users\\Rohan\\Desktop\\Kaggle\\M5_Walmart\\\\'"
   ]
  },
  {
   "cell_type": "code",
   "execution_count": 30,
   "metadata": {},
   "outputs": [
    {
     "data": {
      "text/plain": [
       "['calendar.csv',\n",
       " 'dim_item.csv',\n",
       " 'dim_item_idx_lkp.csv',\n",
       " 'dim_item_max_sk.csv',\n",
       " 'dim_store.csv',\n",
       " 'dim_store_idx_lkp.csv',\n",
       " 'dim_store_max_sk.csv',\n",
       " 'f_sales_trans_sk_mapped_test.csv',\n",
       " 'm5-forecasting-accuracy.zip',\n",
       " 'practice_sqls.sql',\n",
       " 'sales_train_validation.csv',\n",
       " 'sales_train_validation_10_items.csv',\n",
       " 'sales_train_validation_10_items2.csv',\n",
       " 'sales_train_validation_10_items_norm.csv',\n",
       " 'sales_train_validation_mod1.csv',\n",
       " 'sales_train_validation_normalized.csv',\n",
       " 'sample_submission.csv',\n",
       " 'sell_prices.csv',\n",
       " 'walmart_heirarchy.csv',\n",
       " 'walmart_star_schema.xlsx',\n",
       " '~$walmart_star_schema.xlsx']"
      ]
     },
     "execution_count": 30,
     "metadata": {},
     "output_type": "execute_result"
    }
   ],
   "source": [
    "os.listdir(file_path)"
   ]
  },
  {
   "cell_type": "code",
   "execution_count": 36,
   "metadata": {},
   "outputs": [],
   "source": [
    "read_huge_file_pd = pd.read_csv(file_path + list_of_files[15])"
   ]
  },
  {
   "cell_type": "code",
   "execution_count": 37,
   "metadata": {},
   "outputs": [
    {
     "name": "stdout",
     "output_type": "stream",
     "text": [
      "<class 'pandas.core.frame.DataFrame'>\n",
      "RangeIndex: 58235900 entries, 0 to 58235899\n",
      "Data columns (total 9 columns):\n",
      "id               object\n",
      "item_sk          int64\n",
      "store_sk         int64\n",
      "d_1              int64\n",
      "d_2              int64\n",
      "d_3              int64\n",
      "date             object\n",
      "unit_sold        int64\n",
      "trasaction_id    int64\n",
      "dtypes: int64(7), object(2)\n",
      "memory usage: 3.9+ GB\n"
     ]
    }
   ],
   "source": [
    "read_huge_file_pd.info()"
   ]
  },
  {
   "cell_type": "code",
   "execution_count": 40,
   "metadata": {},
   "outputs": [
    {
     "ename": "NameError",
     "evalue": "name 'read_huge_file_pd' is not defined",
     "output_type": "error",
     "traceback": [
      "\u001b[1;31m\u001b[0m",
      "\u001b[1;31mNameError\u001b[0mTraceback (most recent call last)",
      "\u001b[1;32m<ipython-input-40-9215d71fc9a8>\u001b[0m in \u001b[0;36m<module>\u001b[1;34m()\u001b[0m\n\u001b[1;32m----> 1\u001b[1;33m \u001b[0mread_huge_file_pd\u001b[0m\u001b[1;33m.\u001b[0m\u001b[0mhead\u001b[0m\u001b[1;33m(\u001b[0m\u001b[1;36m5\u001b[0m\u001b[1;33m)\u001b[0m\u001b[1;33m\u001b[0m\u001b[0m\n\u001b[0m",
      "\u001b[1;31mNameError\u001b[0m: name 'read_huge_file_pd' is not defined"
     ]
    }
   ],
   "source": [
    "read_huge_file_pd.head(5)"
   ]
  },
  {
   "cell_type": "code",
   "execution_count": 39,
   "metadata": {},
   "outputs": [],
   "source": [
    "del read_huge_file_pd"
   ]
  },
  {
   "cell_type": "code",
   "execution_count": null,
   "metadata": {},
   "outputs": [],
   "source": []
  }
 ],
 "metadata": {
  "kernelspec": {
   "display_name": "Python 2",
   "language": "python",
   "name": "python2"
  },
  "language_info": {
   "codemirror_mode": {
    "name": "ipython",
    "version": 2
   },
   "file_extension": ".py",
   "mimetype": "text/x-python",
   "name": "python",
   "nbconvert_exporter": "python",
   "pygments_lexer": "ipython2",
   "version": "2.7.16"
  }
 },
 "nbformat": 4,
 "nbformat_minor": 2
}
