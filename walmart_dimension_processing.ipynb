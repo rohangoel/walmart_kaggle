{
 "cells": [
  {
   "cell_type": "code",
   "execution_count": 2,
   "metadata": {},
   "outputs": [],
   "source": [
    "import pandas as pd\n",
    "import os\n",
    "import sys"
   ]
  },
  {
   "cell_type": "code",
   "execution_count": 1,
   "metadata": {},
   "outputs": [],
   "source": [
    "dim_cols_dict= {\n",
    "                'item':{'key':['item_id'],\n",
    "\t\t\t\t\t\t'incols':['item_id','dept_id','cat_id'],\n",
    "\t\t\t\t\t\t'outcols':['item_id','dept_id','cat_id']\n",
    "\t\t\t\t\t\t},\n",
    "               'store':{'key':['store_id'],\n",
    "\t\t\t            'incols':['store_id','state_id'],\n",
    "\t\t\t\t\t\t'outcols': ['store_id','state_id'] \n",
    "\t\t\t\t\t\t}\n",
    "              }"
   ]
  },
  {
   "cell_type": "code",
   "execution_count": 4,
   "metadata": {},
   "outputs": [
    {
     "data": {
      "text/plain": [
       "{'incols': ['item_id', 'dept_id', 'cat_id'],\n",
       " 'key': ['item_id'],\n",
       " 'outcols': ['item_id', 'dept_id', 'cat_id']}"
      ]
     },
     "execution_count": 4,
     "metadata": {},
     "output_type": "execute_result"
    }
   ],
   "source": [
    "dim_cols_dict['item']"
   ]
  },
  {
   "cell_type": "code",
   "execution_count": 29,
   "metadata": {},
   "outputs": [],
   "source": [
    "def process_dimension(file_name,dim_cols_dict,dim_type):\n",
    "  dim_name = 'dim_' + dim_type\n",
    "  dim_key_cols = dim_cols_dict[dim_type]['key']\n",
    "  dim_in_all_cols = dim_cols_dict[dim_type]['incols']\n",
    "  dim_out_cols = dim_cols_dict[dim_type]['outcols']  \n",
    "  file_path = 'C:\\Users\\Rohan\\Desktop\\Kaggle\\M5_Walmart\\\\'\n",
    "  #file_name = 'sales_train_validation.csv'\n",
    "  dim_sk = dim_type + '_sk'\n",
    "  dim_max_sk_csv = dim_name + '_max_sk.csv'\n",
    "  dim_idx_lkp_csv = dim_name + '_idx_lkp.csv'\n",
    "  dim_csv = dim_name + '.csv'\n",
    "  dim_hash = dim_type + '_hash_key'\n",
    "  dim_out_all_cols = list(dim_out_cols)\n",
    "  dim_idx_cols = list(dim_key_cols)\n",
    "  dim_out_all_cols.extend([dim_sk,dim_hash,'rec_hash'])\n",
    "  dim_idx_cols.append(dim_sk)\n",
    "  \n",
    "  df1 = pd.read_csv(file_path + file_name )\n",
    "  df1 = df1[dim_in_all_cols]\n",
    "  df1.drop_duplicates(inplace=True)\n",
    "  df1.reset_index(drop=True,inplace=True)\n",
    "  try:\n",
    "    df_max_lkp = pd.read_csv(file_path + dim_max_sk_csv)\n",
    "    max_sk = df_max_lkp.iat[0,0]\n",
    "  except:\n",
    "    max_sk = 1\n",
    "  try:\n",
    "    df_dim_idx_lkp = pd.read_csv(file_path + dim_idx_lkp_csv,index_col=dim_hash)\n",
    "  except:\n",
    "    df_dim_idx_lkp = pd.DataFrame()\n",
    "  \n",
    "   \n",
    "  def lookup_fun(x):\n",
    "    try:\n",
    "      return(df_dim_idx_lkp.at[x,dim_sk])\n",
    "    except:\n",
    "      return(-1)\n",
    "  df1[dim_hash] = pd.util.hash_pandas_object(df1[dim_key_cols],index=False)\n",
    "  df1['rec_hash'] = pd.util.hash_pandas_object(df1[dim_out_cols],index=False)\n",
    "  df1[dim_sk] = df1[dim_hash].apply(lambda x: lookup_fun(x))\n",
    "  df1_dim_updates = df1[df1[dim_sk] != -1]\n",
    "  df1_dim_updates.reset_index(drop=True,inplace=True)\n",
    "  df1_dim_inserts = df1[df1[dim_sk] == -1]\n",
    "  if len(df1_dim_inserts) > 0:\n",
    "    df1_dim_inserts.reset_index(drop=True,inplace=True)\n",
    "    df1_dim_inserts[dim_sk] = df1_dim_inserts.index + max_sk\n",
    "    max_sk = df1_dim_inserts[dim_sk].max() + 1\n",
    "    if max_sk == max_sk:\n",
    "      pd.DataFrame.from_dict({'max_sk':[max_sk]}).to_csv(file_path + dim_max_sk_csv,index=None)\n",
    "    df1_dim_inserts.set_index(dim_hash,inplace=True)\n",
    "    df_dim_idx_lkp = df_dim_idx_lkp.append(df1_dim_inserts[dim_idx_cols])\n",
    "    df_dim_idx_lkp.to_csv(file_path + dim_idx_lkp_csv,header=True,index=True)\n",
    "    df1_dim_inserts.reset_index(inplace=True)\n",
    "  try:\n",
    "    df1_dim_current = pd.read_csv(file_path + dim_csv)\n",
    "  except:\n",
    "    df1_dim_current = pd.DataFrame(columns=dim_out_all_cols)\n",
    "  if len(df1_dim_updates) > 0:\n",
    "    df1_dim_updates['check_dup_up'] = df1_dim_updates['rec_hash'].isin(df1_dim_current['rec_hash'])\n",
    "    df1_dim_updates = df1_dim_updates[df1_dim_updates.check_dup_up == False]\n",
    "    df1_dim_current['check_up'] = df1_dim_current['rec_hash'].isin(df1_dim_updates['rec_hash'])\n",
    "    df1_dim_current = df1_dim_current[df1_dim_current.check_up == False]\n",
    "    df1_dim_current = df1_dim_current[dim_out_all_cols].append(df1_dim_updates[dim_out_all_cols])\n",
    "  df1_dim_current = df1_dim_current[dim_out_all_cols].append(df1_dim_inserts[dim_out_all_cols])\n",
    "  df1_dim_current.to_csv(file_path + dim_csv ,header=True,index=None)\n",
    "  return"
   ]
  },
  {
   "cell_type": "code",
   "execution_count": 7,
   "metadata": {},
   "outputs": [],
   "source": [
    "file_name = 'sales_train_validation.csv'"
   ]
  },
  {
   "cell_type": "code",
   "execution_count": 30,
   "metadata": {},
   "outputs": [],
   "source": [
    "process_dimension(file_name,dim_cols_dict,'item')"
   ]
  },
  {
   "cell_type": "code",
   "execution_count": 32,
   "metadata": {},
   "outputs": [],
   "source": [
    "process_dimension(file_name,dim_cols_dict,'store')"
   ]
  },
  {
   "cell_type": "code",
   "execution_count": 25,
   "metadata": {},
   "outputs": [],
   "source": [
    "file_path = 'C:\\Users\\Rohan\\Desktop\\Kaggle\\M5_Walmart\\\\'"
   ]
  },
  {
   "cell_type": "code",
   "execution_count": 34,
   "metadata": {},
   "outputs": [
    {
     "data": {
      "text/plain": [
       "['calendar.csv',\n",
       " 'dim_item.csv',\n",
       " 'dim_item_idx_lkp.csv',\n",
       " 'dim_item_max_sk.csv',\n",
       " 'dim_store.csv',\n",
       " 'dim_store_idx_lkp.csv',\n",
       " 'dim_store_max_sk.csv',\n",
       " 'f_sales_trans_sk_mapped_test.csv',\n",
       " 'm5-forecasting-accuracy.zip',\n",
       " 'practice_sqls.sql',\n",
       " 'sales_train_validation.csv',\n",
       " 'sales_train_validation_10_items.csv',\n",
       " 'sales_train_validation_10_items2.csv',\n",
       " 'sales_train_validation_10_items_norm.csv',\n",
       " 'sales_train_validation_mod1.csv',\n",
       " 'sample_submission.csv',\n",
       " 'sell_prices.csv',\n",
       " 'walmart_heirarchy.csv',\n",
       " 'walmart_star_schema.xlsx',\n",
       " '~$walmart_star_schema.xlsx']"
      ]
     },
     "execution_count": 34,
     "metadata": {},
     "output_type": "execute_result"
    }
   ],
   "source": [
    "os.listdir('C:\\Users\\Rohan\\Desktop\\Kaggle\\M5_Walmart')"
   ]
  },
  {
   "cell_type": "code",
   "execution_count": 27,
   "metadata": {},
   "outputs": [
    {
     "data": {
      "text/plain": [
       "['calendar.csv',\n",
       " 'm5-forecasting-accuracy.zip',\n",
       " 'practice_sqls.sql',\n",
       " 'sales_train_validation.csv',\n",
       " 'sales_train_validation_10_items.csv',\n",
       " 'sales_train_validation_10_items2.csv',\n",
       " 'sales_train_validation_10_items_norm.csv',\n",
       " 'sales_train_validation_mod1.csv',\n",
       " 'sample_submission.csv',\n",
       " 'sell_prices.csv',\n",
       " 'walmart_heirarchy.csv',\n",
       " 'walmart_star_schema.xlsx',\n",
       " '~$walmart_star_schema.xlsx']"
      ]
     },
     "execution_count": 27,
     "metadata": {},
     "output_type": "execute_result"
    }
   ],
   "source": [
    "os.listdir(file_path)"
   ]
  },
  {
   "cell_type": "code",
   "execution_count": 28,
   "metadata": {},
   "outputs": [
    {
     "data": {
      "text/plain": [
       "'C:\\\\Users\\\\Rohan\\\\Desktop\\\\Kaggle\\\\M5_Walmart\\\\'"
      ]
     },
     "execution_count": 28,
     "metadata": {},
     "output_type": "execute_result"
    }
   ],
   "source": [
    "file_path"
   ]
  },
  {
   "cell_type": "code",
   "execution_count": null,
   "metadata": {},
   "outputs": [],
   "source": []
  }
 ],
 "metadata": {
  "kernelspec": {
   "display_name": "Python 3",
   "language": "python",
   "name": "python3"
  },
  "language_info": {
   "codemirror_mode": {
    "name": "ipython",
    "version": 3
   },
   "file_extension": ".py",
   "mimetype": "text/x-python",
   "name": "python",
   "nbconvert_exporter": "python",
   "pygments_lexer": "ipython3",
   "version": "3.7.6"
  }
 },
 "nbformat": 4,
 "nbformat_minor": 2
}
